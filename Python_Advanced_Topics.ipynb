{
  "nbformat": 4,
  "nbformat_minor": 0,
  "metadata": {
    "colab": {
      "name": "Python Advanced Topics",
      "provenance": [],
      "collapsed_sections": [],
      "authorship_tag": "ABX9TyMV30cE9+4mHpwT2ob4TA92",
      "include_colab_link": true
    },
    "kernelspec": {
      "name": "python3",
      "display_name": "Python 3"
    }
  },
  "cells": [
    {
      "cell_type": "markdown",
      "metadata": {
        "id": "view-in-github",
        "colab_type": "text"
      },
      "source": [
        "<a href=\"https://colab.research.google.com/github/haliechm/PythonAdditionalTopics/blob/master/Python_Advanced_Topics.ipynb\" target=\"_parent\"><img src=\"https://colab.research.google.com/assets/colab-badge.svg\" alt=\"Open In Colab\"/></a>"
      ]
    },
    {
      "cell_type": "markdown",
      "metadata": {
        "id": "6fFU8piqHuti",
        "colab_type": "text"
      },
      "source": [
        "**Object-Oriented Programming Language**\n",
        "Class - user-defined prototype for an object that defines a set of attributes that characterize any object of the class\n",
        "\n",
        "Class variable - variable shared by all instances of a class (defined within a class but outside any of the class's methods\n",
        "\n",
        "Function overloading - assignment of more than one behavior to a particular function (varies by types of objects or arguments involved)\n",
        "\n",
        "Instance variable - a variable that is defined inside a method and belongs only to the current instance of a class\n",
        "\n",
        "Inheritance - transfer of the characteristics of a class to other classes that are derived from it\n",
        "\n",
        "Instance - an individual object of a certain class\n",
        "\n",
        "Instantiation - the creation of an instance of a class\n",
        "\n",
        "Method - a kind of function that is defined in a class definition\n",
        "\n",
        "Object - a unique instance of a data structure that's defined by its class"
      ]
    },
    {
      "cell_type": "markdown",
      "metadata": {
        "id": "1sQ_539IKHFZ",
        "colab_type": "text"
      },
      "source": [
        "**Creating Classes**"
      ]
    },
    {
      "cell_type": "code",
      "metadata": {
        "id": "9n5MMGS6KJEE",
        "colab_type": "code",
        "colab": {}
      },
      "source": [
        "class ClassName :\n",
        "  'Optional class documentation string'\n",
        "\n",
        "# Documentation string can be accessed via ClassName.__doc__\n",
        "\n",
        "class Employee :\n",
        "  'Common base class for all employees'\n",
        "  # empCount is a class variable whose value is shared among all instances of this class\n",
        "  # can be accessed as Employee.empCount from inside or outside of this class\n",
        "  empCount = 0\n",
        "\n",
        "\n",
        "  # __init__() is a special method, which is called a class constructor that is called when you create a new instance of this class\n",
        "  def __init__(self, name, salary) :\n",
        "    self.name = name\n",
        "    self.salary = salary\n",
        "    Employee.empCount += 1\n",
        "\n",
        "\n",
        "  # declare other class methods like normal functions with the exception that the first argument to each method is self\n",
        "  # Python adds the self argument to the list for you; you do not need to include it when you call them methods\n",
        "  def displayCount(self) :\n",
        "    print(\"Total number of employees: {}\".format(Employee.empCount))\n",
        "\n",
        "  def displayEmployee(self) :\n",
        "    print(\"Name: {}, Salary: {}\".format(self.name, self.salary))\n",
        "\n",
        "\n",
        "\n"
      ],
      "execution_count": 0,
      "outputs": []
    },
    {
      "cell_type": "code",
      "metadata": {
        "id": "JLYwMI4wLy6U",
        "colab_type": "code",
        "colab": {
          "base_uri": "https://localhost:8080/",
          "height": 102
        },
        "outputId": "6140df34-14d6-4292-e5d3-497f520dd23d"
      },
      "source": [
        "# to create an instance of Employee:\n",
        "\n",
        "employee1 = Employee(\"Halie Chmura\", 150000)\n",
        "employee2 = Employee(\"Denzel Washington\", 9000000)\n",
        "\n",
        "employee1.displayEmployee()\n",
        "employee2.displayEmployee()\n",
        "\n",
        "employee1.displayCount() # 2\n",
        "\n",
        "print(Employee.empCount)\n",
        "\n",
        "employee1.age = 21 # can add age attribute (not in class but can add it)\n",
        "print(employee1.age)"
      ],
      "execution_count": 23,
      "outputs": [
        {
          "output_type": "stream",
          "text": [
            "Name: Halie Chmura, Salary: 150000\n",
            "Name: Denzel Washington, Salary: 9000000\n",
            "Total number of employees: 2\n",
            "2\n",
            "21\n"
          ],
          "name": "stdout"
        }
      ]
    },
    {
      "cell_type": "markdown",
      "metadata": {
        "id": "PiDOsyhLNWrD",
        "colab_type": "text"
      },
      "source": [
        "**Built-In Class Attributes**"
      ]
    },
    {
      "cell_type": "code",
      "metadata": {
        "id": "ksdWeYsONaqo",
        "colab_type": "code",
        "colab": {
          "base_uri": "https://localhost:8080/",
          "height": 122
        },
        "outputId": "35e8b887-be0e-44a7-df74-8817712fb5d9"
      },
      "source": [
        "print(Employee.__doc__)\n",
        "print(Employee.__name__)\n",
        "print(Employee.__module__)\n",
        "print(Employee.__bases__)\n",
        "print(Employee.__dict__)"
      ],
      "execution_count": 30,
      "outputs": [
        {
          "output_type": "stream",
          "text": [
            "Common base class for all employees\n",
            "Employee\n",
            "__main__\n",
            "(<class 'object'>,)\n",
            "{'__module__': '__main__', '__doc__': 'Common base class for all employees', 'empCount': 2, '__init__': <function Employee.__init__ at 0x7fb377456a60>, 'displayCount': <function Employee.displayCount at 0x7fb377456ae8>, 'displayEmployee': <function Employee.displayEmployee at 0x7fb377456b70>, '__dict__': <attribute '__dict__' of 'Employee' objects>, '__weakref__': <attribute '__weakref__' of 'Employee' objects>}\n"
          ],
          "name": "stdout"
        }
      ]
    },
    {
      "cell_type": "markdown",
      "metadata": {
        "id": "ApE3fBZzOKQR",
        "colab_type": "text"
      },
      "source": [
        "**Class Inheritance**\n",
        "You can derive a class from a preexisting class by listing the parent class in parentheses after the new class name\n",
        "\n",
        "The child class inherits the attributes of its parent class, and you can use those attributes as if they were defined in the child class. A child class can also override data members and methods from the parent"
      ]
    },
    {
      "cell_type": "code",
      "metadata": {
        "id": "bNHF_eGhNfT9",
        "colab_type": "code",
        "colab": {
          "base_uri": "https://localhost:8080/",
          "height": 85
        },
        "outputId": "61c72438-0deb-4d3a-a951-916f84327076"
      },
      "source": [
        "class Parent: # define parent class \n",
        "  parentAttribute = 100\n",
        "\n",
        "  def __init__(self):\n",
        "    print(\"Caling parent constructor\")\n",
        "\n",
        "  def parentMethod(self):\n",
        "    print(\"Calling parent method\")\n",
        "\n",
        "  def setAttribute(self, attr):\n",
        "    Parent.parentAttribute = attr\n",
        "  \n",
        "  def getAttr(self):\n",
        "    print(\"Parent attribute: {}\".format(Parent.parentAttribute))\n",
        "\n",
        "class Child(Parent): # define child class\n",
        "\n",
        "  def __init__(self):\n",
        "    print(\"Calling child constructor\")\n",
        "\n",
        "  def childMethod(self):\n",
        "    print(\"Calling child method\")\n",
        "\n",
        "\n",
        "class A:\n",
        "  def __init__(self):\n",
        "    print(\"Calling A constructor\")\n",
        "\n",
        "\n",
        "class GC(Child, A):\n",
        "  def __init__(self):\n",
        "    print(\"Calling grandchild constructor\")\n",
        "\n",
        "c = Child()\n",
        "c.childMethod()\n",
        "c.parentMethod()\n",
        "c.setAttribute(200)\n",
        "c.getAttr()\n",
        "\n",
        "\n",
        "\n",
        "\n",
        "\n",
        "  \n"
      ],
      "execution_count": 45,
      "outputs": [
        {
          "output_type": "stream",
          "text": [
            "Calling child constructor\n",
            "Calling child method\n",
            "Calling parent method\n",
            "Parent attribute: 200\n"
          ],
          "name": "stdout"
        }
      ]
    },
    {
      "cell_type": "code",
      "metadata": {
        "id": "U3B_Ql9xQztg",
        "colab_type": "code",
        "colab": {
          "base_uri": "https://localhost:8080/",
          "height": 102
        },
        "outputId": "db593a4b-f559-4ef2-ffbf-1b1b149e37c2"
      },
      "source": [
        "# issubclass(sub, sup) \n",
        "# returns true if the given subclass is a subclass of the superclass\n",
        "\n",
        "print(issubclass(GC, A)) #True\n",
        "\n",
        "# isinstance(obj, Class)\n",
        "# returns true if obj is an instance of Class or is an instance of a subclass of Class\n",
        "\n",
        "p = Parent()\n",
        "print(isinstance(p, Parent)) # True\n",
        "g = GC()\n",
        "print(isinstance(g, A)) # True"
      ],
      "execution_count": 51,
      "outputs": [
        {
          "output_type": "stream",
          "text": [
            "True\n",
            "Caling parent constructor\n",
            "True\n",
            "Calling grandchild constructor\n",
            "True\n"
          ],
          "name": "stdout"
        }
      ]
    },
    {
      "cell_type": "markdown",
      "metadata": {
        "id": "_K9r9B_HRdN0",
        "colab_type": "text"
      },
      "source": [
        "**Overriding & Overloading Methods**\n",
        "You can always override your parent class methods. One reason for overriding parent's methods is because you may want special or different functionality in your subclass"
      ]
    },
    {
      "cell_type": "code",
      "metadata": {
        "id": "6J-bw4aSRq8q",
        "colab_type": "code",
        "colab": {
          "base_uri": "https://localhost:8080/",
          "height": 68
        },
        "outputId": "b65e2222-5244-46cc-e4c2-ce2b9ee5bf99"
      },
      "source": [
        "class Animal:\n",
        "  totalNumAnimals = 0\n",
        "\n",
        "  def __init__(self):\n",
        "    totalNumAnimals += 1\n",
        "    self.noise = \"NA\"\n",
        "    self.age = -1\n",
        "    self.food = \"NA\"\n",
        "\n",
        "  def getNoise(self):\n",
        "    return self.noise\n",
        "  \n",
        "  def getAge(self):\n",
        "    return self.age\n",
        "\n",
        "  def getFood(self):\n",
        "    return self.food\n",
        "\n",
        "\n",
        "  def setNoise(self, noise):\n",
        "    self.noise = noise\n",
        "\n",
        "  def setAge(self, age):\n",
        "    self.age = age\n",
        "\n",
        "  def setFood(self, food):\n",
        "    self.food = food\n",
        "\n",
        "class Cow(Animal):\n",
        "\n",
        "  def __init__(self, noise, age, food):\n",
        "    self.setAge(age)\n",
        "    self.setFood(food)\n",
        "\n",
        "  # overriding getNoise\n",
        "  def getNoise(self):\n",
        "    return \"Moooooooooooooooooooooooo\"\n",
        "\n",
        "gary = Cow(\"Moo\", 2, \"Grass\")\n",
        "print(gary.getNoise())\n",
        "print(gary.getAge())\n",
        "print(gary.getFood())"
      ],
      "execution_count": 60,
      "outputs": [
        {
          "output_type": "stream",
          "text": [
            "Moooooooooooooooooooooooo\n",
            "2\n",
            "Grass\n"
          ],
          "name": "stdout"
        }
      ]
    },
    {
      "cell_type": "code",
      "metadata": {
        "id": "8nB47_W9PA_L",
        "colab_type": "code",
        "colab": {
          "base_uri": "https://localhost:8080/",
          "height": 34
        },
        "outputId": "4f2c3551-115c-42a1-c531-fd95c601db1d"
      },
      "source": [
        "class Vector:\n",
        "   def __init__(self, a, b):\n",
        "      self.a = a\n",
        "      self.b = b\n",
        "\n",
        "   def __str__(self):\n",
        "      return 'Vector (%d, %d)' % (self.a, self.b)\n",
        "      \n",
        "   # use the __add__() to define what happens when you try to add two vectors together (adding would throw an error without this)\n",
        "   def __add__(self,other):\n",
        "      return Vector(self.a + other.a, self.b + other.b)\n",
        "\n",
        "v1 = Vector(2,10)\n",
        "v2 = Vector(5,-2)\n",
        "print(v1 + v2)"
      ],
      "execution_count": 62,
      "outputs": [
        {
          "output_type": "stream",
          "text": [
            "Vector (7, 8)\n"
          ],
          "name": "stdout"
        }
      ]
    },
    {
      "cell_type": "markdown",
      "metadata": {
        "id": "VTL1Pn_xTUfP",
        "colab_type": "text"
      },
      "source": [
        "**Data Hiding**\n",
        "\n",
        "An object's attributes may or may not be visible outside the class definitions\n",
        "\n",
        "Name attributes with a double underscore prefix to hide them so that those attributes are not directly visible to outsiders\n",
        "\n",
        "\n",
        "\n"
      ]
    },
    {
      "cell_type": "code",
      "metadata": {
        "id": "LAHkwsKHTphJ",
        "colab_type": "code",
        "colab": {
          "base_uri": "https://localhost:8080/",
          "height": 85
        },
        "outputId": "e354d14d-84b1-4fcf-f3d3-e51f4cd28a3e"
      },
      "source": [
        "class Counter:\n",
        "  __hiddenCount = 0\n",
        "  notHiddenCount = 1000\n",
        "\n",
        "  def count(self):\n",
        "    self.__hiddenCount += 1\n",
        "    print(self.__hiddenCount)\n",
        "\n",
        "class Counter2(Counter):\n",
        "\n",
        "  def getHidden(self):\n",
        "    print(self.notHiddenCount)\n",
        "    # print(self.__hiddenCount) THROWS AN ERROR\n",
        "  \n",
        "\n",
        "counter = Counter()\n",
        "counter.count()\n",
        "counter.count()\n",
        "# print(counter.__hiddenCount) THROWS AN ERROR\n",
        "\n",
        "d = Counter2()\n",
        "\n",
        "d.getHidden()\n",
        "\n",
        "d.notHiddenCount"
      ],
      "execution_count": 73,
      "outputs": [
        {
          "output_type": "stream",
          "text": [
            "1\n",
            "2\n",
            "1000\n"
          ],
          "name": "stdout"
        },
        {
          "output_type": "execute_result",
          "data": {
            "text/plain": [
              "1000"
            ]
          },
          "metadata": {
            "tags": []
          },
          "execution_count": 73
        }
      ]
    },
    {
      "cell_type": "code",
      "metadata": {
        "id": "WxP1Lgg0UvKR",
        "colab_type": "code",
        "colab": {}
      },
      "source": [
        ""
      ],
      "execution_count": 0,
      "outputs": []
    }
  ]
}