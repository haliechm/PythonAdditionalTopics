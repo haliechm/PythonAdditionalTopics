{
  "nbformat": 4,
  "nbformat_minor": 0,
  "metadata": {
    "colab": {
      "name": "Python Advanced Topics",
      "provenance": [],
      "collapsed_sections": [],
      "authorship_tag": "ABX9TyNy9A/xQm12BZA/FrUbi20e",
      "include_colab_link": true
    },
    "kernelspec": {
      "name": "python3",
      "display_name": "Python 3"
    }
  },
  "cells": [
    {
      "cell_type": "markdown",
      "metadata": {
        "id": "view-in-github",
        "colab_type": "text"
      },
      "source": [
        "<a href=\"https://colab.research.google.com/github/haliechm/PythonAdditionalTopics/blob/master/Python_Advanced_Topics.ipynb\" target=\"_parent\"><img src=\"https://colab.research.google.com/assets/colab-badge.svg\" alt=\"Open In Colab\"/></a>"
      ]
    },
    {
      "cell_type": "markdown",
      "metadata": {
        "id": "6fFU8piqHuti",
        "colab_type": "text"
      },
      "source": [
        "**Object-Oriented Programming Language**\n",
        "Class - user-defined prototype for an object that defines a set of attributes that characterize any object of the class\n",
        "\n",
        "Class variable - variable shared by all instances of a class (defined within a class but outside any of the class's methods\n",
        "\n",
        "Function overloading - assignment of more than one behavior to a particular function (varies by types of objects or arguments involved)\n",
        "\n",
        "Instance variable - a variable that is defined inside a method and belongs only to the current instance of a class\n",
        "\n",
        "Inheritance - transfer of the characteristics of a class to other classes that are derived from it\n",
        "\n",
        "Instance - an individual object of a certain class\n",
        "\n",
        "Instantiation - the creation of an instance of a class\n",
        "\n",
        "Method - a kind of function that is defined in a class definition\n",
        "\n",
        "Object - a unique instance of a data structure that's defined by its class"
      ]
    },
    {
      "cell_type": "markdown",
      "metadata": {
        "id": "1sQ_539IKHFZ",
        "colab_type": "text"
      },
      "source": [
        "**Creating Classes**"
      ]
    },
    {
      "cell_type": "code",
      "metadata": {
        "id": "9n5MMGS6KJEE",
        "colab_type": "code",
        "colab": {}
      },
      "source": [
        "class ClassName :\n",
        "  'Optional class documentation string'\n",
        "\n",
        "# Documentation string can be accessed via ClassName.__doc__\n",
        "\n",
        "class Employee :\n",
        "  'Common base class for all employees'\n",
        "  # empCount is a class variable whose value is shared among all instances of this class\n",
        "  # can be accessed as Employee.empCount from inside or outside of this class\n",
        "  empCount = 0\n",
        "\n",
        "\n",
        "  # __init__() is a special method, which is called a class constructor that is called when you create a new instance of this class\n",
        "  def __init__(self, name, salary) :\n",
        "    self.name = name\n",
        "    self.salary = salary\n",
        "    Employee.empCount += 1\n",
        "\n",
        "\n",
        "  # declare other class methods like normal functions with the exception that the first argument to each method is self\n",
        "  # Python adds the self argument to the list for you; you do not need to include it when you call them methods\n",
        "  def displayCount(self) :\n",
        "    print(\"Total number of employees: {}\".format(Employee.empCount))\n",
        "\n",
        "  def displayEmployee(self) :\n",
        "    print(\"Name: {}, Salary: {}\".format(self.name, self.salary))\n",
        "\n",
        "\n",
        "\n"
      ],
      "execution_count": 0,
      "outputs": []
    },
    {
      "cell_type": "code",
      "metadata": {
        "id": "JLYwMI4wLy6U",
        "colab_type": "code",
        "outputId": "6140df34-14d6-4292-e5d3-497f520dd23d",
        "colab": {
          "base_uri": "https://localhost:8080/",
          "height": 102
        }
      },
      "source": [
        "# to create an instance of Employee:\n",
        "\n",
        "employee1 = Employee(\"Halie Chmura\", 150000)\n",
        "employee2 = Employee(\"Denzel Washington\", 9000000)\n",
        "\n",
        "employee1.displayEmployee()\n",
        "employee2.displayEmployee()\n",
        "\n",
        "employee1.displayCount() # 2\n",
        "\n",
        "print(Employee.empCount)\n",
        "\n",
        "employee1.age = 21 # can add age attribute (not in class but can add it)\n",
        "print(employee1.age)"
      ],
      "execution_count": 0,
      "outputs": [
        {
          "output_type": "stream",
          "text": [
            "Name: Halie Chmura, Salary: 150000\n",
            "Name: Denzel Washington, Salary: 9000000\n",
            "Total number of employees: 2\n",
            "2\n",
            "21\n"
          ],
          "name": "stdout"
        }
      ]
    },
    {
      "cell_type": "markdown",
      "metadata": {
        "id": "PiDOsyhLNWrD",
        "colab_type": "text"
      },
      "source": [
        "**Built-In Class Attributes**"
      ]
    },
    {
      "cell_type": "code",
      "metadata": {
        "id": "ksdWeYsONaqo",
        "colab_type": "code",
        "outputId": "35e8b887-be0e-44a7-df74-8817712fb5d9",
        "colab": {
          "base_uri": "https://localhost:8080/",
          "height": 122
        }
      },
      "source": [
        "print(Employee.__doc__)\n",
        "print(Employee.__name__)\n",
        "print(Employee.__module__)\n",
        "print(Employee.__bases__)\n",
        "print(Employee.__dict__)"
      ],
      "execution_count": 0,
      "outputs": [
        {
          "output_type": "stream",
          "text": [
            "Common base class for all employees\n",
            "Employee\n",
            "__main__\n",
            "(<class 'object'>,)\n",
            "{'__module__': '__main__', '__doc__': 'Common base class for all employees', 'empCount': 2, '__init__': <function Employee.__init__ at 0x7fb377456a60>, 'displayCount': <function Employee.displayCount at 0x7fb377456ae8>, 'displayEmployee': <function Employee.displayEmployee at 0x7fb377456b70>, '__dict__': <attribute '__dict__' of 'Employee' objects>, '__weakref__': <attribute '__weakref__' of 'Employee' objects>}\n"
          ],
          "name": "stdout"
        }
      ]
    },
    {
      "cell_type": "markdown",
      "metadata": {
        "id": "ApE3fBZzOKQR",
        "colab_type": "text"
      },
      "source": [
        "**Class Inheritance**\n",
        "You can derive a class from a preexisting class by listing the parent class in parentheses after the new class name\n",
        "\n",
        "The child class inherits the attributes of its parent class, and you can use those attributes as if they were defined in the child class. A child class can also override data members and methods from the parent"
      ]
    },
    {
      "cell_type": "code",
      "metadata": {
        "id": "bNHF_eGhNfT9",
        "colab_type": "code",
        "outputId": "83ad8ec8-f7e5-44a2-8267-d38357cf3072",
        "colab": {
          "base_uri": "https://localhost:8080/",
          "height": 300
        }
      },
      "source": [
        "class Parent: # define parent class \n",
        "  parentAttribute = 100\n",
        "\n",
        "  def __init__(self, name=\"Berry\"):\n",
        "    print(\"Caling parent constructor\")\n",
        "    self.name = name\n",
        "\n",
        "  def parentMethod(self):\n",
        "    print(\"Calling parent method\")\n",
        "\n",
        "  def setAttribute(self, attr):\n",
        "    Parent.parentAttribute = attr\n",
        "  \n",
        "  def getAttr(self):\n",
        "    print(\"Parent attribute: {}\".format(Parent.parentAttribute))\n",
        "\n",
        "class Child(Parent): # define child class\n",
        "\n",
        "  def __init__(self, age = 16):\n",
        "    print(\"Calling child constructor\")\n",
        "    self.age = age\n",
        "\n",
        "  def childMethod(self):\n",
        "    print(\"Calling child method\")\n",
        "\n",
        "\n",
        "class A:\n",
        "  def __init__(self):\n",
        "    print(\"Calling A constructor\")\n",
        "\n",
        "\n",
        "class GC(Child, A):\n",
        "  def __init__(self):\n",
        "    print(\"Calling grandchild constructor\")\n",
        "\n",
        "c = Child()\n",
        "c.childMethod()\n",
        "c.parentMethod()\n",
        "c.setAttribute(200)\n",
        "c.getAttr()\n",
        "\n",
        "\n",
        "c.age=\n",
        "\n",
        "\n",
        "\n",
        "\n",
        "\n",
        "\n",
        "  \n"
      ],
      "execution_count": 0,
      "outputs": [
        {
          "output_type": "stream",
          "text": [
            "Calling child constructor\n",
            "Calling child method\n",
            "Calling parent method\n",
            "Parent attribute: 200\n"
          ],
          "name": "stdout"
        },
        {
          "output_type": "error",
          "ename": "AttributeError",
          "evalue": "ignored",
          "traceback": [
            "\u001b[0;31m---------------------------------------------------------------------------\u001b[0m",
            "\u001b[0;31mAttributeError\u001b[0m                            Traceback (most recent call last)",
            "\u001b[0;32m<ipython-input-3-520fd84def81>\u001b[0m in \u001b[0;36m<module>\u001b[0;34m()\u001b[0m\n\u001b[1;32m     42\u001b[0m \u001b[0;34m\u001b[0m\u001b[0m\n\u001b[1;32m     43\u001b[0m \u001b[0mc\u001b[0m\u001b[0;34m.\u001b[0m\u001b[0mage\u001b[0m\u001b[0;34m\u001b[0m\u001b[0;34m\u001b[0m\u001b[0m\n\u001b[0;32m---> 44\u001b[0;31m \u001b[0mc\u001b[0m\u001b[0;34m.\u001b[0m\u001b[0mname\u001b[0m\u001b[0;34m\u001b[0m\u001b[0;34m\u001b[0m\u001b[0m\n\u001b[0m\u001b[1;32m     45\u001b[0m \u001b[0;34m\u001b[0m\u001b[0m\n\u001b[1;32m     46\u001b[0m \u001b[0;34m\u001b[0m\u001b[0m\n",
            "\u001b[0;31mAttributeError\u001b[0m: 'Child' object has no attribute 'name'"
          ]
        }
      ]
    },
    {
      "cell_type": "code",
      "metadata": {
        "id": "U3B_Ql9xQztg",
        "colab_type": "code",
        "outputId": "db593a4b-f559-4ef2-ffbf-1b1b149e37c2",
        "colab": {
          "base_uri": "https://localhost:8080/",
          "height": 102
        }
      },
      "source": [
        "# issubclass(sub, sup) \n",
        "# returns true if the given subclass is a subclass of the superclass\n",
        "\n",
        "print(issubclass(GC, A)) #True\n",
        "\n",
        "# isinstance(obj, Class)\n",
        "# returns true if obj is an instance of Class or is an instance of a subclass of Class\n",
        "\n",
        "p = Parent()\n",
        "print(isinstance(p, Parent)) # True\n",
        "g = GC()\n",
        "print(isinstance(g, A)) # True"
      ],
      "execution_count": 0,
      "outputs": [
        {
          "output_type": "stream",
          "text": [
            "True\n",
            "Caling parent constructor\n",
            "True\n",
            "Calling grandchild constructor\n",
            "True\n"
          ],
          "name": "stdout"
        }
      ]
    },
    {
      "cell_type": "markdown",
      "metadata": {
        "id": "_K9r9B_HRdN0",
        "colab_type": "text"
      },
      "source": [
        "**Overriding & Overloading Methods**\n",
        "You can always override your parent class methods. One reason for overriding parent's methods is because you may want special or different functionality in your subclass"
      ]
    },
    {
      "cell_type": "code",
      "metadata": {
        "id": "6J-bw4aSRq8q",
        "colab_type": "code",
        "outputId": "b65e2222-5244-46cc-e4c2-ce2b9ee5bf99",
        "colab": {
          "base_uri": "https://localhost:8080/",
          "height": 68
        }
      },
      "source": [
        "class Animal:\n",
        "  totalNumAnimals = 0\n",
        "\n",
        "  def __init__(self):\n",
        "    totalNumAnimals += 1\n",
        "    self.noise = \"NA\"\n",
        "    self.age = -1\n",
        "    self.food = \"NA\"\n",
        "\n",
        "  def getNoise(self):\n",
        "    return self.noise\n",
        "  \n",
        "  def getAge(self):\n",
        "    return self.age\n",
        "\n",
        "  def getFood(self):\n",
        "    return self.food\n",
        "\n",
        "\n",
        "  def setNoise(self, noise):\n",
        "    self.noise = noise\n",
        "\n",
        "  def setAge(self, age):\n",
        "    self.age = age\n",
        "\n",
        "  def setFood(self, food):\n",
        "    self.food = food\n",
        "\n",
        "class Cow(Animal):\n",
        "\n",
        "  def __init__(self, noise, age, food):\n",
        "    self.setAge(age)\n",
        "    self.setFood(food)\n",
        "\n",
        "  # overriding getNoise\n",
        "  def getNoise(self):\n",
        "    return \"Moooooooooooooooooooooooo\"\n",
        "\n",
        "gary = Cow(\"Moo\", 2, \"Grass\")\n",
        "print(gary.getNoise())\n",
        "print(gary.getAge())\n",
        "print(gary.getFood())"
      ],
      "execution_count": 0,
      "outputs": [
        {
          "output_type": "stream",
          "text": [
            "Moooooooooooooooooooooooo\n",
            "2\n",
            "Grass\n"
          ],
          "name": "stdout"
        }
      ]
    },
    {
      "cell_type": "code",
      "metadata": {
        "id": "8nB47_W9PA_L",
        "colab_type": "code",
        "outputId": "4f2c3551-115c-42a1-c531-fd95c601db1d",
        "colab": {
          "base_uri": "https://localhost:8080/",
          "height": 34
        }
      },
      "source": [
        "class Vector:\n",
        "   def __init__(self, a, b):\n",
        "      self.a = a\n",
        "      self.b = b\n",
        "\n",
        "   def __str__(self):\n",
        "      return 'Vector (%d, %d)' % (self.a, self.b)\n",
        "      \n",
        "   # use the __add__() to define what happens when you try to add two vectors together (adding would throw an error without this)\n",
        "   def __add__(self,other):\n",
        "      return Vector(self.a + other.a, self.b + other.b)\n",
        "\n",
        "v1 = Vector(2,10)\n",
        "v2 = Vector(5,-2)\n",
        "print(v1 + v2)"
      ],
      "execution_count": 0,
      "outputs": [
        {
          "output_type": "stream",
          "text": [
            "Vector (7, 8)\n"
          ],
          "name": "stdout"
        }
      ]
    },
    {
      "cell_type": "markdown",
      "metadata": {
        "id": "VTL1Pn_xTUfP",
        "colab_type": "text"
      },
      "source": [
        "**Data Hiding**\n",
        "\n",
        "An object's attributes may or may not be visible outside the class definitions\n",
        "\n",
        "Name attributes with a double underscore prefix to hide them so that those attributes are not directly visible to outsiders\n",
        "\n",
        "\n",
        "\n"
      ]
    },
    {
      "cell_type": "code",
      "metadata": {
        "id": "LAHkwsKHTphJ",
        "colab_type": "code",
        "outputId": "e354d14d-84b1-4fcf-f3d3-e51f4cd28a3e",
        "colab": {
          "base_uri": "https://localhost:8080/",
          "height": 85
        }
      },
      "source": [
        "class Counter:\n",
        "  __hiddenCount = 0\n",
        "  notHiddenCount = 1000\n",
        "\n",
        "  def count(self):\n",
        "    self.__hiddenCount += 1\n",
        "    print(self.__hiddenCount)\n",
        "\n",
        "class Counter2(Counter):\n",
        "\n",
        "  def getHidden(self):\n",
        "    print(self.notHiddenCount)\n",
        "    # print(self.__hiddenCount) THROWS AN ERROR\n",
        "  \n",
        "\n",
        "counter = Counter()\n",
        "counter.count()\n",
        "counter.count()\n",
        "# print(counter.__hiddenCount) THROWS AN ERROR\n",
        "\n",
        "d = Counter2()\n",
        "\n",
        "d.getHidden()\n",
        "\n",
        "d.notHiddenCount"
      ],
      "execution_count": 0,
      "outputs": [
        {
          "output_type": "stream",
          "text": [
            "1\n",
            "2\n",
            "1000\n"
          ],
          "name": "stdout"
        },
        {
          "output_type": "execute_result",
          "data": {
            "text/plain": [
              "1000"
            ]
          },
          "metadata": {
            "tags": []
          },
          "execution_count": 73
        }
      ]
    },
    {
      "cell_type": "markdown",
      "metadata": {
        "id": "1NYOlaVQYW9l",
        "colab_type": "text"
      },
      "source": [
        "**Loops Continued**"
      ]
    },
    {
      "cell_type": "code",
      "metadata": {
        "id": "WxP1Lgg0UvKR",
        "colab_type": "code",
        "outputId": "dcc4dd0e-157e-4c96-c47a-ee22f5e0eac6",
        "colab": {
          "base_uri": "https://localhost:8080/",
          "height": 323
        }
      },
      "source": [
        "fruits = [\"Strawberry\", \"Watermelon\", \"Orange\", \"Grape\"]\n",
        "for x in fruits:\n",
        "  print(x)\n",
        "\n",
        "b = \"banana\"\n",
        "for x in b:\n",
        "  print(x)\n",
        "\n",
        "# break statement\n",
        "\n",
        "for x in fruits:\n",
        "  print(x)\n",
        "  if (x == \"Orange\"):\n",
        "    break\n",
        "\n",
        "print(\"____________\")\n",
        "# continue statement\n",
        "for x in fruits:\n",
        "  print(x)\n",
        "  if(x == \"Watermelon\" or x == \"Strawberry\"):\n",
        "    continue\n",
        "  else:\n",
        "    print(\"!!!!!!!!!!! {}\".format(x))\n",
        "    break\n"
      ],
      "execution_count": 0,
      "outputs": [
        {
          "output_type": "stream",
          "text": [
            "Strawberry\n",
            "Watermelon\n",
            "Orange\n",
            "Grape\n",
            "b\n",
            "a\n",
            "n\n",
            "a\n",
            "n\n",
            "a\n",
            "Strawberry\n",
            "Watermelon\n",
            "Orange\n",
            "____________\n",
            "Strawberry\n",
            "Watermelon\n",
            "Orange\n",
            "!!!!!!!!!!! Orange\n"
          ],
          "name": "stdout"
        }
      ]
    },
    {
      "cell_type": "code",
      "metadata": {
        "id": "DrnSU0YMYg-A",
        "colab_type": "code",
        "outputId": "3d9bab88-94e2-4295-8dc7-16ac1627e5e9",
        "colab": {
          "base_uri": "https://localhost:8080/",
          "height": 680
        }
      },
      "source": [
        "# range() function\n",
        "\n",
        "years = [1999, 2001, 2012, 2016, 2017, 2018]\n",
        "\n",
        "for year in years:\n",
        "  print(year)\n",
        "\n",
        "\n",
        "print(\"_________________\")\n",
        "for i in range(len(years)) :\n",
        "  print(years[i])\n",
        "\n",
        "for i in range(6) :\n",
        "  print(i)\n",
        "\n",
        "print(\"____________________\")\n",
        "for i in range(2,6): #starts at 2 and ends at 5 (inclusive/exclusive)\n",
        "  print(i)\n",
        "\n",
        "\n",
        "print(\"____________________\")\n",
        "for i in range(2, 30, 2): #starts at 2 ends at 29, increments by 2 (so only prints even numbers)\n",
        "  print(i)\n"
      ],
      "execution_count": 0,
      "outputs": [
        {
          "output_type": "stream",
          "text": [
            "1999\n",
            "2001\n",
            "2012\n",
            "2016\n",
            "2017\n",
            "2018\n",
            "_________________\n",
            "1999\n",
            "2001\n",
            "2012\n",
            "2016\n",
            "2017\n",
            "2018\n",
            "0\n",
            "1\n",
            "2\n",
            "3\n",
            "4\n",
            "5\n",
            "____________________\n",
            "2\n",
            "3\n",
            "4\n",
            "5\n",
            "____________________\n",
            "2\n",
            "4\n",
            "6\n",
            "8\n",
            "10\n",
            "12\n",
            "14\n",
            "16\n",
            "18\n",
            "20\n",
            "22\n",
            "24\n",
            "26\n",
            "28\n"
          ],
          "name": "stdout"
        }
      ]
    },
    {
      "cell_type": "code",
      "metadata": {
        "id": "Yh_z7N0CZk-f",
        "colab_type": "code",
        "outputId": "ab4f84de-e848-4135-9bdc-cbc6915fe2ea",
        "colab": {
          "base_uri": "https://localhost:8080/",
          "height": 425
        }
      },
      "source": [
        "# else in for loop\n",
        "# specifies block of code to be executed when the loop is finished\n",
        "\n",
        "for x in range(6):\n",
        "  print(x)\n",
        "else:\n",
        "  print(\"Finally finished!\")\n",
        "\n",
        "\n",
        "# nested loops\n",
        "states = [\"North Carolina\", \"South Carolina\", \"New York\", \"Texas\"]\n",
        "capitals = [\"Raleigh\", \"Columbia\", \"Albany\", \"Austin\"]\n",
        "\n",
        "for s in states:\n",
        "  for c in capitals:\n",
        "    print(\"The capital of {} is {}\".format(s, c))\n",
        "\n",
        "# use pass statement when you have no code to do but need to avoid an error\n",
        "for s in states:\n",
        "  pass\n",
        "\n",
        "print(\"yep\")"
      ],
      "execution_count": 0,
      "outputs": [
        {
          "output_type": "stream",
          "text": [
            "0\n",
            "1\n",
            "2\n",
            "3\n",
            "4\n",
            "5\n",
            "Finally finished!\n",
            "The capital of North Carolina is Raleigh\n",
            "The capital of North Carolina is Columbia\n",
            "The capital of North Carolina is Albany\n",
            "The capital of North Carolina is Austin\n",
            "The capital of South Carolina is Raleigh\n",
            "The capital of South Carolina is Columbia\n",
            "The capital of South Carolina is Albany\n",
            "The capital of South Carolina is Austin\n",
            "The capital of New York is Raleigh\n",
            "The capital of New York is Columbia\n",
            "The capital of New York is Albany\n",
            "The capital of New York is Austin\n",
            "The capital of Texas is Raleigh\n",
            "The capital of Texas is Columbia\n",
            "The capital of Texas is Albany\n",
            "The capital of Texas is Austin\n",
            "yep\n"
          ],
          "name": "stdout"
        }
      ]
    },
    {
      "cell_type": "code",
      "metadata": {
        "id": "5_IGHkC4aQjE",
        "colab_type": "code",
        "outputId": "cdb0ce2d-a6c1-4967-f00f-98dc40ec9327",
        "colab": {
          "base_uri": "https://localhost:8080/",
          "height": 153
        }
      },
      "source": [
        "# iterate over a list of tuples\n",
        "\n",
        "coordinates = [(10,20), (30, 42), (16, 10)]\n",
        "\n",
        "for x,y in coordinates:\n",
        "  print(\"Coordinates: {},{}\".format(x,y))\n",
        "\n",
        "# iterate over dictionary\n",
        "\n",
        "presidents = {\"Donald Trump\":45, \"Barack Obama\":44, \"George W. Bush\":43, \"Bill Clinton\": 42, \"George Washington\":1}\n",
        "for name, num in presidents.items():\n",
        "  print(\"The {} President of the United States is {}\".format(num, name))"
      ],
      "execution_count": 0,
      "outputs": [
        {
          "output_type": "stream",
          "text": [
            "Coordinates: 10,20\n",
            "Coordinates: 30,42\n",
            "Coordinates: 16,10\n",
            "The 45 President of the United States is Donald Trump\n",
            "The 44 President of the United States is Barack Obama\n",
            "The 43 President of the United States is George W. Bush\n",
            "The 42 President of the United States is Bill Clinton\n",
            "The 1 President of the United States is George Washington\n"
          ],
          "name": "stdout"
        }
      ]
    },
    {
      "cell_type": "code",
      "metadata": {
        "id": "m2iuHO3Yb_-0",
        "colab_type": "code",
        "outputId": "ffaad810-34c3-4569-def5-373342bbceb9",
        "colab": {
          "base_uri": "https://localhost:8080/",
          "height": 221
        }
      },
      "source": [
        "languages = [['Spanish', 'English',  'French', 'German'], ['Python', 'Java', 'Javascript', 'C++']]\n",
        "\n",
        "for lang in languages:\n",
        "    print(lang)\n",
        "\n",
        "for x in languages:\n",
        "    print(\"------\")\n",
        "    for lang in x:\n",
        "        print(lang)"
      ],
      "execution_count": 0,
      "outputs": [
        {
          "output_type": "stream",
          "text": [
            "['Spanish', 'English', 'French', 'German']\n",
            "['Python', 'Java', 'Javascript', 'C++']\n",
            "------\n",
            "Spanish\n",
            "English\n",
            "French\n",
            "German\n",
            "------\n",
            "Python\n",
            "Java\n",
            "Javascript\n",
            "C++\n"
          ],
          "name": "stdout"
        }
      ]
    },
    {
      "cell_type": "markdown",
      "metadata": {
        "id": "gkvsvvTBVDyE",
        "colab_type": "text"
      },
      "source": [
        "**Mutable vs Immutable**\n",
        "\n",
        "Mutable objects: list, dict, set, byte array\n",
        "\n",
        "Immutable objects: int, float, complex, string, tuple, frozen set, bytes"
      ]
    },
    {
      "cell_type": "code",
      "metadata": {
        "id": "YOXu5mgldEDN",
        "colab_type": "code",
        "outputId": "3a4dcb3e-239f-413a-8ad3-91c4f370caf4",
        "colab": {
          "base_uri": "https://localhost:8080/",
          "height": 187
        }
      },
      "source": [
        "# IMMUTABLE\n",
        "\n",
        "x = 10\n",
        "y = x\n",
        "\n",
        "print(id(x) == id(y)) # True \n",
        "print(id(y) == id(10)) # True\n",
        "\n",
        "# change x \n",
        "x = x + 1\n",
        "print(x) # 11\n",
        "print(y) # 10\n",
        "print(id(x) == id(y)) # False\n",
        "print(id(x) == id(10)) # False\n",
        "\n",
        "# The object in which x was tagged is changed. Object 10 was never modified. \n",
        "# Immutable objects don't allow modification after creation\n",
        "\n",
        "\n",
        "# MUTABLE\n",
        "\n",
        "m = list([1, 2, 3])\n",
        "n = m\n",
        "\n",
        "print(id(m) == id(n)) # True\n",
        "m.pop()\n",
        "print(id(m) == id(n)) # True\n",
        "print(m) # [1, 2]\n",
        "print(n) # [1, 2]\n",
        "\n",
        "# so popping 3 off of m also popped 3 off of n"
      ],
      "execution_count": 0,
      "outputs": [
        {
          "output_type": "stream",
          "text": [
            "True\n",
            "True\n",
            "11\n",
            "10\n",
            "False\n",
            "False\n",
            "True\n",
            "True\n",
            "[1, 2]\n",
            "[1, 2]\n"
          ],
          "name": "stdout"
        }
      ]
    },
    {
      "cell_type": "code",
      "metadata": {
        "id": "ywBhD5AyVk5w",
        "colab_type": "code",
        "outputId": "f419d871-012b-4142-ca90-e33e954263f5",
        "colab": {
          "base_uri": "https://localhost:8080/",
          "height": 1000
        }
      },
      "source": [
        "# get function descriptions from math module\n",
        "\n",
        "import math\n",
        "help(math)"
      ],
      "execution_count": 0,
      "outputs": [
        {
          "output_type": "stream",
          "text": [
            "Help on built-in module math:\n",
            "\n",
            "NAME\n",
            "    math\n",
            "\n",
            "DESCRIPTION\n",
            "    This module is always available.  It provides access to the\n",
            "    mathematical functions defined by the C standard.\n",
            "\n",
            "FUNCTIONS\n",
            "    acos(...)\n",
            "        acos(x)\n",
            "        \n",
            "        Return the arc cosine (measured in radians) of x.\n",
            "    \n",
            "    acosh(...)\n",
            "        acosh(x)\n",
            "        \n",
            "        Return the inverse hyperbolic cosine of x.\n",
            "    \n",
            "    asin(...)\n",
            "        asin(x)\n",
            "        \n",
            "        Return the arc sine (measured in radians) of x.\n",
            "    \n",
            "    asinh(...)\n",
            "        asinh(x)\n",
            "        \n",
            "        Return the inverse hyperbolic sine of x.\n",
            "    \n",
            "    atan(...)\n",
            "        atan(x)\n",
            "        \n",
            "        Return the arc tangent (measured in radians) of x.\n",
            "    \n",
            "    atan2(...)\n",
            "        atan2(y, x)\n",
            "        \n",
            "        Return the arc tangent (measured in radians) of y/x.\n",
            "        Unlike atan(y/x), the signs of both x and y are considered.\n",
            "    \n",
            "    atanh(...)\n",
            "        atanh(x)\n",
            "        \n",
            "        Return the inverse hyperbolic tangent of x.\n",
            "    \n",
            "    ceil(...)\n",
            "        ceil(x)\n",
            "        \n",
            "        Return the ceiling of x as an Integral.\n",
            "        This is the smallest integer >= x.\n",
            "    \n",
            "    copysign(...)\n",
            "        copysign(x, y)\n",
            "        \n",
            "        Return a float with the magnitude (absolute value) of x but the sign \n",
            "        of y. On platforms that support signed zeros, copysign(1.0, -0.0) \n",
            "        returns -1.0.\n",
            "    \n",
            "    cos(...)\n",
            "        cos(x)\n",
            "        \n",
            "        Return the cosine of x (measured in radians).\n",
            "    \n",
            "    cosh(...)\n",
            "        cosh(x)\n",
            "        \n",
            "        Return the hyperbolic cosine of x.\n",
            "    \n",
            "    degrees(...)\n",
            "        degrees(x)\n",
            "        \n",
            "        Convert angle x from radians to degrees.\n",
            "    \n",
            "    erf(...)\n",
            "        erf(x)\n",
            "        \n",
            "        Error function at x.\n",
            "    \n",
            "    erfc(...)\n",
            "        erfc(x)\n",
            "        \n",
            "        Complementary error function at x.\n",
            "    \n",
            "    exp(...)\n",
            "        exp(x)\n",
            "        \n",
            "        Return e raised to the power of x.\n",
            "    \n",
            "    expm1(...)\n",
            "        expm1(x)\n",
            "        \n",
            "        Return exp(x)-1.\n",
            "        This function avoids the loss of precision involved in the direct evaluation of exp(x)-1 for small x.\n",
            "    \n",
            "    fabs(...)\n",
            "        fabs(x)\n",
            "        \n",
            "        Return the absolute value of the float x.\n",
            "    \n",
            "    factorial(...)\n",
            "        factorial(x) -> Integral\n",
            "        \n",
            "        Find x!. Raise a ValueError if x is negative or non-integral.\n",
            "    \n",
            "    floor(...)\n",
            "        floor(x)\n",
            "        \n",
            "        Return the floor of x as an Integral.\n",
            "        This is the largest integer <= x.\n",
            "    \n",
            "    fmod(...)\n",
            "        fmod(x, y)\n",
            "        \n",
            "        Return fmod(x, y), according to platform C.  x % y may differ.\n",
            "    \n",
            "    frexp(...)\n",
            "        frexp(x)\n",
            "        \n",
            "        Return the mantissa and exponent of x, as pair (m, e).\n",
            "        m is a float and e is an int, such that x = m * 2.**e.\n",
            "        If x is 0, m and e are both 0.  Else 0.5 <= abs(m) < 1.0.\n",
            "    \n",
            "    fsum(...)\n",
            "        fsum(iterable)\n",
            "        \n",
            "        Return an accurate floating point sum of values in the iterable.\n",
            "        Assumes IEEE-754 floating point arithmetic.\n",
            "    \n",
            "    gamma(...)\n",
            "        gamma(x)\n",
            "        \n",
            "        Gamma function at x.\n",
            "    \n",
            "    gcd(...)\n",
            "        gcd(x, y) -> int\n",
            "        greatest common divisor of x and y\n",
            "    \n",
            "    hypot(...)\n",
            "        hypot(x, y)\n",
            "        \n",
            "        Return the Euclidean distance, sqrt(x*x + y*y).\n",
            "    \n",
            "    isclose(...)\n",
            "        isclose(a, b, *, rel_tol=1e-09, abs_tol=0.0) -> bool\n",
            "        \n",
            "        Determine whether two floating point numbers are close in value.\n",
            "        \n",
            "           rel_tol\n",
            "               maximum difference for being considered \"close\", relative to the\n",
            "               magnitude of the input values\n",
            "            abs_tol\n",
            "               maximum difference for being considered \"close\", regardless of the\n",
            "               magnitude of the input values\n",
            "        \n",
            "        Return True if a is close in value to b, and False otherwise.\n",
            "        \n",
            "        For the values to be considered close, the difference between them\n",
            "        must be smaller than at least one of the tolerances.\n",
            "        \n",
            "        -inf, inf and NaN behave similarly to the IEEE 754 Standard.  That\n",
            "        is, NaN is not close to anything, even itself.  inf and -inf are\n",
            "        only close to themselves.\n",
            "    \n",
            "    isfinite(...)\n",
            "        isfinite(x) -> bool\n",
            "        \n",
            "        Return True if x is neither an infinity nor a NaN, and False otherwise.\n",
            "    \n",
            "    isinf(...)\n",
            "        isinf(x) -> bool\n",
            "        \n",
            "        Return True if x is a positive or negative infinity, and False otherwise.\n",
            "    \n",
            "    isnan(...)\n",
            "        isnan(x) -> bool\n",
            "        \n",
            "        Return True if x is a NaN (not a number), and False otherwise.\n",
            "    \n",
            "    ldexp(...)\n",
            "        ldexp(x, i)\n",
            "        \n",
            "        Return x * (2**i).\n",
            "    \n",
            "    lgamma(...)\n",
            "        lgamma(x)\n",
            "        \n",
            "        Natural logarithm of absolute value of Gamma function at x.\n",
            "    \n",
            "    log(...)\n",
            "        log(x[, base])\n",
            "        \n",
            "        Return the logarithm of x to the given base.\n",
            "        If the base not specified, returns the natural logarithm (base e) of x.\n",
            "    \n",
            "    log10(...)\n",
            "        log10(x)\n",
            "        \n",
            "        Return the base 10 logarithm of x.\n",
            "    \n",
            "    log1p(...)\n",
            "        log1p(x)\n",
            "        \n",
            "        Return the natural logarithm of 1+x (base e).\n",
            "        The result is computed in a way which is accurate for x near zero.\n",
            "    \n",
            "    log2(...)\n",
            "        log2(x)\n",
            "        \n",
            "        Return the base 2 logarithm of x.\n",
            "    \n",
            "    modf(...)\n",
            "        modf(x)\n",
            "        \n",
            "        Return the fractional and integer parts of x.  Both results carry the sign\n",
            "        of x and are floats.\n",
            "    \n",
            "    pow(...)\n",
            "        pow(x, y)\n",
            "        \n",
            "        Return x**y (x to the power of y).\n",
            "    \n",
            "    radians(...)\n",
            "        radians(x)\n",
            "        \n",
            "        Convert angle x from degrees to radians.\n",
            "    \n",
            "    sin(...)\n",
            "        sin(x)\n",
            "        \n",
            "        Return the sine of x (measured in radians).\n",
            "    \n",
            "    sinh(...)\n",
            "        sinh(x)\n",
            "        \n",
            "        Return the hyperbolic sine of x.\n",
            "    \n",
            "    sqrt(...)\n",
            "        sqrt(x)\n",
            "        \n",
            "        Return the square root of x.\n",
            "    \n",
            "    tan(...)\n",
            "        tan(x)\n",
            "        \n",
            "        Return the tangent of x (measured in radians).\n",
            "    \n",
            "    tanh(...)\n",
            "        tanh(x)\n",
            "        \n",
            "        Return the hyperbolic tangent of x.\n",
            "    \n",
            "    trunc(...)\n",
            "        trunc(x:Real) -> Integral\n",
            "        \n",
            "        Truncates x to the nearest Integral toward 0. Uses the __trunc__ magic method.\n",
            "\n",
            "DATA\n",
            "    e = 2.718281828459045\n",
            "    inf = inf\n",
            "    nan = nan\n",
            "    pi = 3.141592653589793\n",
            "    tau = 6.283185307179586\n",
            "\n",
            "FILE\n",
            "    (built-in)\n",
            "\n",
            "\n"
          ],
          "name": "stdout"
        }
      ]
    },
    {
      "cell_type": "code",
      "metadata": {
        "id": "F4Tf_j9pmFXt",
        "colab_type": "code",
        "colab": {
          "base_uri": "https://localhost:8080/",
          "height": 34
        },
        "outputId": "36bc1df3-1b78-49bc-cd50-56850ce38faa"
      },
      "source": [
        "# can assign to variable module function name\n",
        "import math\n",
        "bar = math.sqrt\n",
        "print(bar(9))"
      ],
      "execution_count": 4,
      "outputs": [
        {
          "output_type": "stream",
          "text": [
            "3.0\n"
          ],
          "name": "stdout"
        }
      ]
    },
    {
      "cell_type": "code",
      "metadata": {
        "id": "6qjV3Qz9iIFu",
        "colab_type": "code",
        "colab": {}
      },
      "source": [
        ""
      ],
      "execution_count": 0,
      "outputs": []
    }
  ]
}